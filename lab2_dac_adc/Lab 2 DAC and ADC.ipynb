{
 "cells": [
  {
   "cell_type": "markdown",
   "metadata": {},
   "source": [
    "# Analog-Digital Circuit Interfaces\n",
    "\n",
    "### EE 16B: Designing Information Devices and Systems II, Spring 2019"
   ]
  },
  {
   "cell_type": "markdown",
   "metadata": {},
   "source": [
    "## Table of Contents\n",
    "\n",
    "* [Part 1: Digital to Analog Converters (DACs)](#part1)\n",
    "* [Part 2: Analog to Digital Converters (ADCs)](#part2)"
   ]
  },
  {
   "cell_type": "markdown",
   "metadata": {},
   "source": [
    "<a id='part1'></a>\n",
    "# <span style=\"color:navy\">Part 1: Digital to Analog Converters (DACs)</span>"
   ]
  },
  {
   "cell_type": "markdown",
   "metadata": {},
   "source": [
    "<img style=\"width: 350px\" src=\"imgs/r-2r.png\">"
   ]
  },
  {
   "cell_type": "markdown",
   "metadata": {},
   "source": [
    "## Questions\n",
    "\n",
    "For the questions below, we assume we have an $n = 3$ bit DAC. Don't forget to show your GSI your work! (Hint: Superposition)\n",
    "\n",
    "**<span style=\"color:red\">Please do not spend too long on these questions. If you get stuck, ASK FOR HELP.</span>**\n",
    "\n",
    "**<span style=\"color:green\">Assuming [$V_0, V_1, V_2$] = [0,0,0] (all in volts), what is $V_{out}$?</span>**"
   ]
  },
  {
   "cell_type": "markdown",
   "metadata": {},
   "source": [
    "**<span style=\"color:green\">Assuming [$V_0, V_1, V_2$] = [0,1,0], what is $V_{out}$?</span>**"
   ]
  },
  {
   "cell_type": "markdown",
   "metadata": {},
   "source": [
    "**<span style=\"color:green\">Assuming [$V_0, V_1, V_2$] = [1,1,1], what is $V_{out}$?</span>**"
   ]
  },
  {
   "cell_type": "markdown",
   "metadata": {},
   "source": [
    "Extra challenge (optional):\n",
    "**<span style=\"color:black\">Assuming [$V_0, V_1, V_2$] = [0,0,1], what is $V_{out}$?</span>**"
   ]
  },
  {
   "cell_type": "markdown",
   "metadata": {},
   "source": [
    "### Materials\n",
    "- MSP430 Launchpad + USB cable\n",
    "- Jumper wires\n",
    "- 1 k$\\Omega$ resistors\n",
    "- 2 k$\\Omega$ resistors\n",
    "- Breadboard\n",
    "- Oscilloscobe probe"
   ]
  },
  {
   "cell_type": "markdown",
   "metadata": {},
   "source": [
    "## Tasks:"
   ]
  },
  {
   "cell_type": "markdown",
   "metadata": {},
   "source": [
    "### 1.1. Build the 3-bit DAC\n",
    "\n",
    "Use the diagram below to build a 3-bit DAC using the $1k\\Omega$ and $2 k\\Omega$ resistors. Use the male-to-female wires to connect the launchpad to the circuit. For example `P4.1` below tells you to connect that node on the breadboard to pin `4.1` on the launchpad. In this circuit, the launchpad will act as a voltage generator.\n",
    "\n",
    "<img style=\"width: 350px\" src=\"imgs/circ3.png\">"
   ]
  },
  {
   "cell_type": "markdown",
   "metadata": {},
   "source": [
    "## 1.2. Running the 3-bit DAC\n",
    "\n",
    "- Open the file `dac.ino` in Energia and skim the code (what do you expect the output of the DAC to be?).\n",
    "    - **What do you expect the output of the DAC to be?** This understanding is **vital** to the debugging process: if you don't know what you're looking for, how can you know if your result is correct or not?\n",
    "- Upload the code to your Launchpad. The code outputs an increasing and decreasing binary number in pins `2.7`, `4.2`, `4.1` where pin `4.1` is the least significant bit (LSB).\n",
    "- Connect these pins to the inputs $V_2, V_1,$ and $V_0$ of your DAC.\n",
    "- Use an oscilloscope probe $V_{out}$ to make sure your DAC behaves correctly.\n",
    "- Adjust the time axis on the oscilloscope to show **100ms per division**.\n",
    "    - **Make sure to connect the ground of your Launchpad with the ground of your circuit!**"
   ]
  },
  {
   "cell_type": "markdown",
   "metadata": {},
   "source": [
    "## 1.3. Build the 4-bit DAC\n",
    "- **Modify both your circuit and the Launchpad code** to extend the 3-bit DAC to 4 bits.\n",
    "    - **You should use pin `3.2` for the new most significant bit (MSB)**.\n",
    "- Make sure your 4-bit DAC works using the oscilloscope."
   ]
  },
  {
   "cell_type": "markdown",
   "metadata": {},
   "source": [
    "## 1.4 Music using your DAC\n",
    "\n",
    "### Materials\n",
    "- MSP430 Launchpad + USB cable\n",
    "- DAC from Part 3\n",
    "- Speaker circuit\n",
    "- Banana alligators for the power supply\n",
    "- Pre-built speaker circuit\n",
    "- A TA or lab assistant\n",
    "\n",
    "### Tasks\n",
    "- Demonstrate the working DAC to the TA/lab assistant.\n",
    "- Use the TA/lab assistant to help you connect your DAC to the speaker circuit.\n",
    "    - Connect `V_out` to the inverting op-amp's input.\n",
    "    - Set the rails on the speaker circuit to -20V and 0V. **Do this under supervision to avoid damaging the circuit.**\n",
    "- Upload `dac_4_bit_music.ino`. This will play sound from the speaker using all 4 bits of the DAC.\n",
    "- Now upload `dac_1_bit_music.ino`. This will play sound from the speaker using all 4 bits of the DAC."
   ]
  },
  {
   "cell_type": "markdown",
   "metadata": {},
   "source": [
    "**<span style=\"color:green\">Did changing from 4 bits to 1 bit change the sound of the speaker? How so?</span>**"
   ]
  },
  {
   "cell_type": "markdown",
   "metadata": {},
   "source": [
    "**<span style=\"color:green\">What are some advantages of having more bits in your DAC?</span>**"
   ]
  },
  {
   "cell_type": "markdown",
   "metadata": {},
   "source": [
    "**<span style=\"color:green\">What are some *disadvantages* of having more bits in your DAC?</span>**"
   ]
  },
  {
   "cell_type": "markdown",
   "metadata": {},
   "source": [
    "**<span style=\"color:green\">In the code, try doubling or halving the argument to `delayMicroseconds(...)`. How does this change the sound?</span>**"
   ]
  },
  {
   "cell_type": "markdown",
   "metadata": {},
   "source": [
    "<a id='part2'></a>\n",
    "# <span style=\"color:navy\">Part 2: Analog to Digital Converters (ADCs)</span>\n",
    "\n",
    "### Materials\n",
    "- MSP430 Launchpad + USB cable\n",
    "- 1 k$\\Omega$ resistors\n",
    "- 2 k$\\Omega$ resistors\n",
    "- LMC6482 Op-amp\n",
    "- Breadboard\n",
    "- Oscilloscobe & probe\n",
    "- Banana alligators for the power supply"
   ]
  },
  {
   "cell_type": "markdown",
   "metadata": {},
   "source": [
    "Given an analog voltage, an measures it in the digital domain. One commonly used circuit architecture for Analog to Digital Converters is the Successive Approximation Register ADC (SAR ADC), which is what we'll be using today.\n",
    "\n",
    "The SAR ADC algorithm uses a DAC to generate voltages and compares them to an analog input voltage. It then uses feedback to adjust the DAC voltage to get as close as possible to the analog voltage.\n",
    "\n",
    "Here is an illustration of the algorithm. Note that \"pin outputs\" refers to the MSP outputs connected to the DAC from Part 3, and \"current output\" means the output voltage of the DAC.\n",
    "\n",
    "<tr>\n",
    "<td> <img style=\"width: 600px\" src=\"imgs/ADC_flowchart.png\"> </td>\n",
    "<td> <img style=\"width: 400px\" src=\"imgs/sar-adc-plot.png\"> </td>\n",
    "</tr>"
   ]
  },
  {
   "cell_type": "markdown",
   "metadata": {},
   "source": [
    "## Tasks"
   ]
  },
  {
   "cell_type": "markdown",
   "metadata": {},
   "source": [
    "## 2.1. Build the ADC\n",
    "\n",
    "While we've already written the code for the ADC, you'll still need to make some changes to your circuit. Specifically, you will need to build the part that compares the output of the DAC to the analog input and feeds the result of the comparison back to pin `6.5` on your launchpad (hint: it's the comparator).\n",
    "\n",
    "Here's a block diagram for the ADC that demonstrates what you need to at a high level. **Use it to build the circuit.** The specific implementation is up to you.\n",
    "\n",
    "<img style=\"width: 700px\" src=\"imgs/ADC_schematic.png\">"
   ]
  },
  {
   "cell_type": "markdown",
   "metadata": {},
   "source": [
    "**<span style=\"color:green\">If we want to build a 4-bit ADC with a sampling frequency of 1kHz (read the input voltage 1000 times per second), what is the minimum clock frequency the ADC has to run at assuming all logic processing is done instantaneously?<br>In other words, how fast does the MSP need to process 1 individual bit?</span>**"
   ]
  },
  {
   "cell_type": "markdown",
   "metadata": {},
   "source": [
    "## 2.2. Run the ADC\n",
    "\n",
    "- Open the file `sar_adc.ino` and skim the code. It reads from pin `6.5` and outputs the approximated result in pins `3.2`, `2.7`, `4.2`, `4.1` with pin `4.1` as the LSB.\n",
    "- **Set the current limit of the power source to 100mA.**\n",
    "- **Use 3.3V for all power supplies.** Introducing higher voltages in the circuit risks damaging the Launchad. Use the +25V channel of the power supply to power the op-amp.\n",
    "- Use the 6V channel as the input voltage (which ranges from 0V to 3.3V).\n",
    "- Check the output! To check the output, open the Serial Monitor in Energia (Control + Shift + M or `Tools > Serial Monitor`). **Make sure the serial monitor is at 9600 baud.**\n",
    "- Probe the output of the DAC using the oscilloscope.\n",
    "\n",
    "**<span style=\"color:red\">Your oscilloscope should show something like this. Should your signal look exactly like this? Think about why the signal steps up and down when it does, and why it converges to this specific voltage (~1.4V).</span>**\n",
    "\n",
    "<center>\n",
    "<img style=\"width:600px\" src=\"http://inst.eecs.berkeley.edu/~ee16b/fa15/lab_pics/adc-4.png\"/>\n",
    "</center>"
   ]
  },
  {
   "cell_type": "markdown",
   "metadata": {},
   "source": [
    "<img width='30px' align='left' src=\"http://inst.eecs.berkeley.edu/~ee16b/sp16/lab_pics/check.png\">\n",
    "\n",
    "## <span style=\"color:green\">CHECKOFF</span>\n",
    " <span style=\"color:green\">Complete <a href=\"http://www.tinyurl.com/lab3-checkoff-quiz\n",
    "\">this quiz</a>, and show your GSI your working 4-bit ADC.</span>"
   ]
  }
 ],
 "metadata": {
  "anaconda-cloud": {},
  "kernelspec": {
   "display_name": "Python 3",
   "language": "python",
   "name": "python3"
  },
  "language_info": {
   "codemirror_mode": {
    "name": "ipython",
    "version": 3
   },
   "file_extension": ".py",
   "mimetype": "text/x-python",
   "name": "python",
   "nbconvert_exporter": "python",
   "pygments_lexer": "ipython3",
   "version": "3.4.5"
  }
 },
 "nbformat": 4,
 "nbformat_minor": 1
}
