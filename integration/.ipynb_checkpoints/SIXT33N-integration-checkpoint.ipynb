{
 "cells": [
  {
   "cell_type": "markdown",
   "metadata": {},
   "source": [
    "# SIXT33N Project\n",
    "## Phase 7: Final Integration\n",
    "\n",
    "### EE 16B: Designing Information Devices and Systems II, Fall 2018\n",
    "\n",
    "\n",
    "Written by Nathaniel Mailoa and Emily Naviasky (2016)\n",
    "\n",
    "nmailoa@berkeley.edu &emsp; enaviasky@berkeley.edu"
   ]
  },
  {
   "cell_type": "markdown",
   "metadata": {},
   "source": [
    "## Table of Contents\n",
    "\n",
    "* [Introduction](#intro)\n",
    "* [Integration](#part1)\n",
    "* [Final Demo and Write-up](#part2)"
   ]
  },
  {
   "cell_type": "markdown",
   "metadata": {},
   "source": [
    "<a id='intro'></a>\n",
    "## Introduction\n",
    "\n",
    "Now you are on your last steps! SIXT33N has slowly been taking shape and soon it will be running around causing trouble. All you need to do now is to put everything together in a single Launchpad program. The objective is to get SIXT33N to move straight, turn left, go straight for a shorter distance, and turn right when it hears the corresponding command.\n",
    "\n",
    "The checkpoint for this phase is the final demo of your project. Please read the last section of the notebook for details."
   ]
  },
  {
   "cell_type": "markdown",
   "metadata": {},
   "source": [
    "<a id='part1'></a>\n",
    "## <span style=\"color:blue\">Integration</span>"
   ]
  },
  {
   "cell_type": "markdown",
   "metadata": {},
   "source": [
    "Everything you work on in this phase will be in the sketch `integration.ino`, which is your final LaunchPad code for SIXT33N. As we go through it, fill in sections labelled `YOUR CODE HERE` as instructed.\n"
   ]
  },
  {
   "cell_type": "markdown",
   "metadata": {},
   "source": [
    "### I/O Pins\n",
    "\n",
    "The top of the sketch contains some constant and variable definitions. If you changed a motor, encoder, or microphone pin in a previous lab, make sure you change it here as well.\n",
    "\n",
    "### Wheel Control \n",
    "\n",
    "In the main body of the sketch, the code defines 2 modes: `MODE_LISTEN` and `MODE_DRIVE`. \n",
    "\n",
    "- Copy `CODE BLOCK CON1/2/3/4/5` from `turning.ino`.\n",
    "\n",
    "### Enveloping and PCA Vectors\n",
    "\n",
    "In `MODE_LISTEN`, the SIXT33N listens to your words and tries to classify the word. The Launchpad will repeatedly record some samples and perform the enveloping. If the Launchpad sucessfully classifies a word then it will enter `MODE_DRIVE`.\n",
    "\n",
    "- Copy `CODE BLOCK PCA1/2` from `classify.ino`.\n",
    "\n",
    "### Classification and Driving\n",
    "\n",
    "Next, go to the section labeled **`CODE BLOCK PCA3`** in the `loop()` function, and copy the code from `classify.ino`. This block should do the PCA projection and classification. We no longer need to `print` over serial in this section.\n",
    "\n",
    "Then, based on the identified commands, write code that makes the SIXT33N behave as desired. As a reminder, the four commands should make the SIXT33N:\n",
    "- Drive straight far\n",
    "- Turn left\n",
    "- Drive straight close\n",
    "- Turn right\n",
    "\n",
    "**Note: you may find that you encounter an \"out-of-memory\" error** - this is because our Launchpads do not have a ton of memory. Try reducing your SNIPPET_SIZE (window length) so your vectors aren't quite as long. This may change your classification, but hopefully for the better. It's ok if you get a warning about *low* memory."
   ]
  },
  {
   "cell_type": "markdown",
   "metadata": {},
   "source": [
    "That's it! You should be set. Now load the sketch into your Launchpad and make sure your Launchpad's 5V pin is connected to the voltage regulator output. If you forgot the pins you should attach to the motors and encoders, you can find them in the define statements in the top of the Launchpad sketch. If your car doesn't have as much drive as before, you might need to change to fresh batteries - check the voltage of your battery using the Digital Multimeter and if it is considerably less than 9V ask for fresh ones.\n",
    "\n",
    "Put your car on the floor and try shouting some commands at it! Hopefully, it can classify the commands correctly and move as desired.\n",
    "\n",
    "Did it work? If not, you might still need to tweak your control parameters. If it did work: time to celebrate!"
   ]
  },
  {
   "cell_type": "markdown",
   "metadata": {},
   "source": [
    "<a id='part2'></a>\n",
    "## <span style=\"color:blue\">Final Demo and Write-up</span>"
   ]
  },
  {
   "cell_type": "markdown",
   "metadata": {},
   "source": [
    "Congratulations - You're done! If you have some time, be creative and try to add a functionality to the SIXT33N! Don't hesitate to ask for your GSI's help when you want to modify the Launchpad sketch since it is more complicated than previous sketches. \n",
    "\n",
    "### Demo\n",
    "\n",
    "Here are the instructions for the lab demo, demos can be done during regular lab time:\n",
    "\n",
    "- Set SIXT33N on the ground, then say the commands one-by-one. You should at least say each command twice, in any order you'd like.\n",
    "- It's helpful for you to say what the word you are about to say is supposed to do.\n",
    "    - It's hard for us to memorize all 4 of your commands up front.\n",
    "- You are allowed to reposition the car inbetween the steps if you have trouble crashing into walls.\n",
    "\n",
    "\n",
    "### Write-up\n",
    "\n",
    "On top of the demo, you will need to submit a write-up of the project. In about 2 pages, briefly summarize each phase of your project and elaborate on your design choices. Submit the write-up as a PDF to Gradescope by **Thursday, May 9th at 11:59 PM**.\n",
    "\n",
    "The write-up should include these topics:\n",
    "- Front-end circuit\n",
    "- PCA classification\n",
    "- Control\n",
    "- General\n",
    "\n"
   ]
  },
  {
   "cell_type": "code",
   "execution_count": null,
   "metadata": {
    "collapsed": true
   },
   "outputs": [],
   "source": []
  }
 ],
 "metadata": {
  "anaconda-cloud": {},
  "kernelspec": {
   "display_name": "Python 3",
   "language": "python",
   "name": "python3"
  },
  "language_info": {
   "codemirror_mode": {
    "name": "ipython",
    "version": 3
   },
   "file_extension": ".py",
   "mimetype": "text/x-python",
   "name": "python",
   "nbconvert_exporter": "python",
   "pygments_lexer": "ipython3",
   "version": "3.4.5"
  }
 },
 "nbformat": 4,
 "nbformat_minor": 1
}
