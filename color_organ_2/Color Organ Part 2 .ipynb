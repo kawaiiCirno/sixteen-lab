{
 "cells": [
  {
   "cell_type": "markdown",
   "metadata": {},
   "source": [
    "# Color Organ Part 2\n",
    "### EE 16B: Designing Information Devices and Systems II, Spring 2019"
   ]
  },
  {
   "cell_type": "markdown",
   "metadata": {},
   "source": [
    "## Table of Contents\n",
    "\n",
    "- [Part 1: Caught in the Midrange](#part1)\n",
    "- [Part 2: A Better Color Organ](#part2)\n",
    "- [Part 3 (optional): A Colorful Contest](#part3)"
   ]
  },
  {
   "cell_type": "markdown",
   "metadata": {},
   "source": [
    "<a id='part1'></a>\n",
    "## <span style=\"color:navy\">Part 1: Caught in the Midrange</span>\n",
    "\n",
    "### Materials\n",
    "- Color organ part 1 setup\n",
    "- Various Caps and Resistors\n",
    "- Op-amps\n",
    "- Mic board\n",
    "- Power supply"
   ]
  },
  {
   "cell_type": "markdown",
   "metadata": {},
   "source": [
    "## Questions"
   ]
  },
  {
   "cell_type": "markdown",
   "metadata": {},
   "source": [
    "<span style=\"color:#075a04\">**Explain why you cannot directly connect a high-pass and low-pass filter to form a band-pass filter as shown below:**</span>\n",
    "![wrong filter](images/WrongFilter_withX.png)"
   ]
  },
  {
   "cell_type": "markdown",
   "metadata": {},
   "source": [
    "Using impedence analysis, we can find that this circuit will not have the expected cutoff frequencies."
   ]
  },
  {
   "cell_type": "markdown",
   "metadata": {},
   "source": [
    "<span style=\"color:#075a04\">**Using the op-amp golden rules, explain why adding a buffer between a high-pass filter and a low-pass filter forms a valid band-pass filter:**</span>\n",
    "![right filter](images/RightFilter.png)"
   ]
  },
  {
   "cell_type": "markdown",
   "metadata": {},
   "source": [
    "$I_+ = I_- = 0$. No current drawn means that the output of the high pass filter will always have the desired voltage. Because $V_+ = V_-$, the buffer has a gain of 1, which ensures that the input to the low-pass = output of the high pass."
   ]
  },
  {
   "cell_type": "markdown",
   "metadata": {},
   "source": [
    "### Tasks\n",
    "\n",
    "1. Choose values for $R_{\\text{high pass}}$ and $C_{\\text{high pass}}$ s.t. your cutoff frequency $f_{c, \\text{ high pass}}$ for your high pass filter is in the range 800 - 1000 Hz.\n",
    "2. Record your values for $R_{\\text{high pass}}$, $C_{\\text{high pass}}$, and $f_{c, \\text{ high pass}}$ below.\n",
    "3. Build your high pass filter and **test it to make sure your cutoff frequency is what you expected**.\n",
    "4. Choose values for $R_{\\text{low pass}}$ and $C_{\\text{low pass}}$ s.t. your cutoff frequency $f_{c, \\text{ low pass}}$ for your low pass filter is in the range 3000 - 5000 Hz.\n",
    "5. Record your values for $R_{\\text{low pass}}$, $C_{\\text{low pass}}$, and $f_{c, \\text{ low pass}}$ below.\n",
    "6. Build your low pass filter and **test it to make sure your cutoff frequency is what you expected**.\n",
    "7. Connect your high-pass filter to your low-pass filter using a buffer as shown above.\n",
    "8. **Test your band-pass filter with the function generator and oscilloscope to make sure that the cutoff frequencys are what you expected.**\n",
    "9. Follow your band-pass filter with another non-inverting amplifier connected to a 10 $\\Omega$ resistor and an LED just like before.\n",
    "    - You can choose the gain of your non-inverting amplifier. Try using 2 to start.\n",
    "10. Hook up your band pass filter in parallel with the other filters, and use the output of your mic board as an input to your band pass filter."
   ]
  },
  {
   "cell_type": "code",
   "execution_count": null,
   "metadata": {},
   "outputs": [],
   "source": [
    "### YOUR CODE HERE\n",
    "R_high_pass = ...\n",
    "C_high_pass = ...\n",
    "f_c_high_pass = ...\n",
    "\n",
    "R_low_pass = ...\n",
    "C_low_pass = ...\n",
    "f_c_low_pass = ...\n",
    "\n",
    "print(\"Band pass filter\")\n",
    "print(\"================\")\n",
    "print(\"High pass resistor: {} ohms\".format(R_high_pass))\n",
    "print(\"High pass capacitor: {} farads\".format(C_high_pass))\n",
    "print(\"High pass cutoff frequency: {} Hz\".format(f_c_high_pass))\n",
    "print(\"Low pass resistor: {} ohms\".format(R_low_pass))\n",
    "print(\"Low pass capacitor: {} farads\".format(C_low_pass))\n",
    "print(\"Low pass cutoff frequency: {} Hz\".format(f_c_low_pass))"
   ]
  },
  {
   "cell_type": "markdown",
   "metadata": {},
   "source": [
    "<a id='part2'></a>\n",
    "## <span style=\"color:navy\">Part 2: A Better Color Organ</span>"
   ]
  },
  {
   "cell_type": "markdown",
   "metadata": {},
   "source": [
    "### Questions"
   ]
  },
  {
   "cell_type": "markdown",
   "metadata": {},
   "source": [
    "<span style=\"color:#075a04\">**What are some problems with your current color-organ's design?**</span>"
   ]
  },
  {
   "cell_type": "markdown",
   "metadata": {},
   "source": []
  },
  {
   "cell_type": "markdown",
   "metadata": {},
   "source": [
    "<span style=\"color:#075a04\">**Suggest a solution that solves one of the problems listed above.**</span>\n",
    "\n",
    "Your solution should significanly modify the color-organ circuit. Changing the gain on a non-inverting amplifier is not a significant modification."
   ]
  },
  {
   "cell_type": "markdown",
   "metadata": {},
   "source": []
  },
  {
   "cell_type": "markdown",
   "metadata": {},
   "source": [
    "<span style=\"color:#075a04\">**Implement your solution and show your TA during checkoff.**</span>"
   ]
  },
  {
   "cell_type": "markdown",
   "metadata": {},
   "source": [
    "<img width='30px' align='left' src=\"http://inst.eecs.berkeley.edu/~ee16b/sp16/lab_pics/check.png\">\n",
    "<br/>\n",
    "<h2 style=\"color:green\">CHECKPOINT</h2>\n",
    "<span style=\"color:green\">Show your GSI your working color organ!</span>\n",
    " \n",
    "Congratulations, you have built a working color organ! Time to party."
   ]
  },
  {
   "cell_type": "markdown",
   "metadata": {},
   "source": [
    "<a id='part3'></a>\n",
    "## <span style=\"color:navy\">Part 3 (optional): A Colorful Contest</span>\n",
    "\n",
    "Use the skills you've learned so far in EE16B to improve your color organ! The group that makes the best color organ according to the criteria will win Raspberry Pis.\n",
    "\n",
    "### Guidelines\n",
    "- In order to enter the contest, your lab group must submit a video of your Color Organ and a description of your improvements to the [submission form](https://goo.gl/forms/IcDAiszLt6Kwcy5D3).\n",
    "    - Your video should include your color organ's response to [this video](https://youtu.be/dU80Fagdy28), which sweeps 20Hz to 20kHz.\n",
    "    - Also, demo and show off any special features of your color organ!\n",
    "- You may augment/improve your Color Organ using materials provided in lab.\n",
    "    - *If you would like to use materials not provided in lab*, you must first write an email proposal to the head lab TAs ([Kevin and Maggie](mailto:paynme0@berkeley.edu,berrypunny@berkeley.edu)) and copy your lab group member(s) detailing what extra components you would like to use, how they will be implemented, and where you plan to get them.\n",
    "\n",
    "\n",
    "### Evaluation\n",
    "\n",
    "**Technical Complexity**\n",
    "- e.g. higher order filters, \n",
    "- applying the MSP\n",
    "- multi-band filters (e.g. the same LED lights up for 2 distinct frequency ranges)\n",
    "\n",
    "**Presentation/Execution**\n",
    "- Show off the features of your color organ\n",
    "- Does your circuit demonstrate everything you said it would?\n",
    "\n",
    "**Aesthetic Appeal/WOW factor**\n",
    "- Clean circuit - General circuit rules for class\n",
    "- Good design practice - Was your design process thoughtful? (i.e. Through designing and making your submission, do you know why it works?)\n",
    "- Clever application of concepts/circuit built\n",
    "\n",
    "\n",
    "\n",
    "This contest is designed to be fun and we encourage you to get creative! We're looking forward to your submission :)\n",
    "\n",
    "\n"
   ]
  },
  {
   "cell_type": "code",
   "execution_count": null,
   "metadata": {},
   "outputs": [],
   "source": []
  }
 ],
 "metadata": {
  "anaconda-cloud": {},
  "kernelspec": {
   "display_name": "Python 3",
   "language": "python",
   "name": "python3"
  },
  "language_info": {
   "codemirror_mode": {
    "name": "ipython",
    "version": 3
   },
   "file_extension": ".py",
   "mimetype": "text/x-python",
   "name": "python",
   "nbconvert_exporter": "python",
   "pygments_lexer": "ipython3",
   "version": "3.6.7"
  }
 },
 "nbformat": 4,
 "nbformat_minor": 1
}
