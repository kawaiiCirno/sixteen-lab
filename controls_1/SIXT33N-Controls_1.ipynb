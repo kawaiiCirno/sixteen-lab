{
 "cells": [
  {
   "cell_type": "markdown",
   "metadata": {},
   "source": [
    "# SIXT33N Phase 2: Controls | Part 1: Open-Loop Control\n",
    "## EE 16B: Designing Information Devices and Systems II, Spring 2019\n"
   ]
  },
  {
   "cell_type": "markdown",
   "metadata": {},
   "source": [
    "**Name 1**:\n",
    "\n",
    "**Login**: ee16b-\n",
    "\n",
    "\n",
    "**Name 2**:\n",
    "\n",
    "**Login**: ee16b-\n",
    "\n",
    "-----"
   ]
  },
  {
   "cell_type": "markdown",
   "metadata": {},
   "source": [
    "# Table of Contents\n",
    "\n",
    "* [Part 0: Powering Your MSP On the Go](#part0)\n",
    "* [Part 1.0: Intro to Open-Loop Control](#part1.0)\n",
    "* [Part 1.1: Open-Loop Controller Design](#part1.1)\n",
    "* [Part 1.2: Open-Loop Simulation](#part1.2)\n",
    "* [Part 1.3: Jolt Calculation](#part1.3)\n",
    "* [Part 1.4: Implementation and Checkoff](#part1.4)\n",
    "\n",
    "-----"
   ]
  },
  {
   "cell_type": "markdown",
   "metadata": {},
   "source": [
    "<a id='part0'></a>\n",
    "# <span style=\"color:blue\">Part 0: Powering the MSP</span>"
   ]
  },
  {
   "cell_type": "markdown",
   "metadata": {},
   "source": [
    "Powering the MSP by both the 5V from the voltage regulator and the USB can increase the odds of MSP frying. To avoid this, you're going to connect the 5V ouput of the voltage regulator to the 5V pin of the MSP via a 22 ohm resistor. This schematic is illustrated below: \n",
    "<img style=\"width:700px\" src=\"images/VoltageRegulatorCircuit.png\">\n",
    "Despite this modification, always avoid simulataneously powering the MSP by the above circuit and the USB. Only use one source at a time. \n",
    "\n",
    "-----"
   ]
  },
  {
   "cell_type": "markdown",
   "metadata": {},
   "source": [
    "<a id='part1.0'></a>\n",
    "# <span style=\"color:blue\">Part 1: Open Loop Control</span>"
   ]
  },
  {
   "cell_type": "markdown",
   "metadata": {},
   "source": [
    "## 1.0 Introduction\n",
    "\n",
    "\n",
    "### <a href=\"https://drive.google.com/file/d/1LTFDFRN8_X0wspUhJYu4yWnY81fdnR3M/view?usp=sharing\">Read the Introduction of the note to familiarize yourself with/remind yourself of the open-loop model.</a>\n",
    "Last time you modeled the open-loop system, collected data, and determined the unknown parameters of your car.\n",
    "\n",
    "This week, you'll implement the open-loop and closed-loop systems. By the end of the phase, you should be able to control the trajectory of the car. We will return to turning later in the project. **Remember to document all design choices you made and explain them in the project report.**\n",
    "\n",
    "The goals of this phase are as follows:\n",
    "- Controller design\n",
    "- Closed loop simulation\n",
    "- Move at constant speed + direction\n",
    "\n",
    "### <span style=\"color:red\">**Fill in your model parameters and target velocty from System ID below.**</span>"
   ]
  },
  {
   "cell_type": "code",
   "execution_count": 8,
   "metadata": {
    "collapsed": false,
    "scrolled": false
   },
   "outputs": [],
   "source": [
    "theta_left = 0.3359\n",
    "theta_right = 0.2948\n",
    "beta_left = -16.68\n",
    "beta_right = -12.25\n",
    "v_star = 54.8"
   ]
  },
  {
   "cell_type": "code",
   "execution_count": 9,
   "metadata": {
    "collapsed": true,
    "scrolled": false
   },
   "outputs": [],
   "source": [
    "import numpy as np\n",
    "import matplotlib.pyplot as plt\n",
    "%matplotlib inline"
   ]
  },
  {
   "cell_type": "code",
   "execution_count": 10,
   "metadata": {
    "collapsed": true,
    "scrolled": false
   },
   "outputs": [],
   "source": [
    "params = np.array([(theta_left, theta_right), (beta_left, beta_right)])\n",
    "d0 = (0,  0)\n",
    "N = 10 # sim length\n",
    "mismatch_error = 0.1 # 10% model mismatch"
   ]
  },
  {
   "cell_type": "code",
   "execution_count": 11,
   "metadata": {
    "collapsed": true,
    "scrolled": false
   },
   "outputs": [],
   "source": [
    "# Functions for simulations and plotting\n",
    "\n",
    "def sim(params, left, right, eps, offset=0):\n",
    "    d = np.zeros((N, 2))\n",
    "    d[0] = d0\n",
    "    # Deterministically mismatch model parameters so students are guaranteed to see effects\n",
    "    th, b = np.array(params)*(1+eps*np.array([(1, -1), (1, -1)]))\n",
    "    for t in range(N-1):\n",
    "        delta = d[t, 0] - d[t, 1] + offset\n",
    "        if t < 1: # \"Jolt\" wheels with maximum power to start\n",
    "            u = (255, 255)\n",
    "        else: # Compute input\n",
    "            try:\n",
    "                u = (left(v_star, delta), right(v_star, delta))\n",
    "            except TypeError:\n",
    "                u = (left(v_star), right(v_star))\n",
    "        # Saturate inputs\n",
    "        u = np.minimum(np.maximum(0, np.array(u)), 255)\n",
    "        # Run single step of system\n",
    "        d[t+1] = d[t] + th*u - b # The phsyical system\n",
    "    delta = d[:, 0] - d[:, 1]\n",
    "    # Post-process delta to determine stability\n",
    "    ss_error = delta[-1]\n",
    "    if abs(ss_error - delta[-2]) > 1:\n",
    "        if abs(ss_error - delta[-3]) < 1e-1:\n",
    "            ss_error = 'oscillatory'\n",
    "        else:\n",
    "            ss_error = \"unbounded\"\n",
    "    elif abs(ss_error) < 1:\n",
    "        ss_error = 0\n",
    "    try:\n",
    "        print(\"Steady state error = {:.2f}\".format(ss_error))\n",
    "    except ValueError:\n",
    "        print(\"Steady state error = {}\".format(ss_error))\n",
    "    plt.plot(range(N), d[:, 0], 'b-', range(N), d[:, 1], 'y-')\n",
    "    plt.xlabel(\"k (sample)\")\n",
    "    plt.ylabel(\"Distance\")\n",
    "    plt.legend((\"left\", \"right\"), loc=\"best\")\n",
    "    return delta\n",
    "\n",
    "def two_sims(left, right, titles):\n",
    "    plt.figure(figsize=(10, 7))\n",
    "    plt.subplot(221)\n",
    "    delta1 = sim(params, left, right, 0)\n",
    "    plt.title(titles[0])\n",
    "    plt.subplot(223)\n",
    "    plt.plot(delta1, 'r')\n",
    "    plt.ylabel('delta')\n",
    "    plt.subplot(222)\n",
    "    delta2 = sim(params, left, right, mismatch_error)\n",
    "    plt.title(titles[1])\n",
    "    plt.subplot(224)\n",
    "    plt.plot(delta2, 'r')\n",
    "    plt.ylabel('delta')\n",
    "    return delta1, delta2"
   ]
  },
  {
   "cell_type": "markdown",
   "metadata": {},
   "source": [
    "<a id='part1.1'></a>\n",
    "## 1.1 Open Loop Controller Design\n",
    "\n",
    "### <a href=\"https://drive.google.com/file/d/1LTFDFRN8_X0wspUhJYu4yWnY81fdnR3M/view?usp=sharing\">Read Part 1 of the note before you proceed. Boxed questions make good checkoff questions ;)</a>\n",
    "\n",
    "Now design an open loop controller that uses the desired wheel velocity, `v_star`, to set the input `u` to an appropriate value for the pulse width modulation (PWM). To do this, solve your model from the previous part for the input $u[k]$ that makes the model velocity $d[k+1] - d[k]$ equal to the desired velocity $v^*$."
   ]
  },
  {
   "cell_type": "code",
   "execution_count": 12,
   "metadata": {
    "collapsed": true,
    "scrolled": false
   },
   "outputs": [],
   "source": [
    "# DESIGN YOUR OPEN-LOOP CONTROL HERE\n",
    "def driveStraight_left_OL(v_star):\n",
    "    \n",
    "    # YOUR CODE HERE\n",
    "    return (v_star + beta_left)/theta_left\n",
    "def driveStraight_right_OL(v_star):\n",
    "    # YOUR CODE HERE\n",
    "    return (v_star + beta_right)/theta_right"
   ]
  },
  {
   "cell_type": "markdown",
   "metadata": {},
   "source": [
    "<a id='part1.2'></a>\n",
    "## 1.2 Open Loop Simulation\n",
    "\n",
    "### <a href=\"https://drive.google.com/file/d/1LTFDFRN8_X0wspUhJYu4yWnY81fdnR3M/view?usp=sharing\">If you haven't yet, read Part 2 of the note.</a>\n",
    "\n",
    "Now, let's do a quick simulation to check the behavior of the car based on our functions above. In these simulations, we apply maximum PWM for a short time as we do in the real car to \"jolt\" the motors from a stop.\n",
    "\n",
    "**Important:** As long as $\\delta$ is constant, even if $\\delta\\neq 0$, the car still travels straight! Traveling straight means the *velocities*, not the positions, of the wheels are the same. It may just travel straight in a different direction than the original heading. Lets call the steady state (final) value $\\delta_{ss}$.\n",
    "\n",
    "In the left two plots, we assume the physical system perfectly matches our model. On the right, we assume the physical system is 10% different from our model."
   ]
  },
  {
   "cell_type": "code",
   "execution_count": 13,
   "metadata": {
    "collapsed": false,
    "scrolled": false
   },
   "outputs": [
    {
     "name": "stdout",
     "output_type": "stream",
     "text": [
      "Steady state error = 14.91\n",
      "Steady state error = unbounded\n"
     ]
    },
    {
     "data": {
      "image/png": "[encoded data removed]",
      "text/plain": [
       "<matplotlib.figure.Figure at 0x8836a20>"
      ]
     },
     "metadata": {},
     "output_type": "display_data"
    }
   ],
   "source": [
    "titles = [\"Open-loop control with perfect model\",\n",
    "          \"Open-loop control with model mismatch\"]\n",
    "_,_ = two_sims(driveStraight_left_OL, driveStraight_right_OL, titles)"
   ]
  },
  {
   "cell_type": "markdown",
   "metadata": {},
   "source": [
    "From the above plots, we can see that the open-loop car travels straight only with a perfect model."
   ]
  },
  {
   "cell_type": "markdown",
   "metadata": {},
   "source": [
    "<a id='part1.3'></a>\n",
    "## 1.3 Jolt Calculation\n",
    "\n",
    "### <a href=\"https://drive.google.com/file/d/1LTFDFRN8_X0wspUhJYu4yWnY81fdnR3M/view?usp=sharing\">Before you proceed, read Part 3 of the note.</a>\n",
    "\n",
    "We find the jolts below by calculating the inputs that result in the minimum of the maximum velocities of both wheels. \n",
    "\n",
    "- **Make sure your `data_coarse.txt` file from System ID is in the same directory as the iPython notebook.**\n",
    "- Run the code below to find your initial jolt values.\n",
    "- Your initial jolt values are correct if they are the input values that correspond to the points where the blue and yellow lines intersect the green line respectively."
   ]
  },
  {
   "cell_type": "code",
   "execution_count": 14,
   "metadata": {
    "collapsed": false
   },
   "outputs": [
    {
     "name": "stdout",
     "output_type": "stream",
     "text": [
      "int left_jolt = 155;\n",
      "int right_jolt = 190;\n"
     ]
    },
    {
     "data": {
      "image/png": "[encoded data removed]",
      "text/plain": [
       "<matplotlib.figure.Figure at 0x6c6d630>"
      ]
     },
     "metadata": {},
     "output_type": "display_data"
    }
   ],
   "source": [
    "def find_closest_idx(arr, val):\n",
    "    \"\"\"\n",
    "    Given an array of velocities and a value, returns the index of the array where arr[index] is the closest to the given value\n",
    "    \"\"\"\n",
    "    return np.array(abs(arr-val)).argmin()\n",
    "\n",
    "def find_jolt(): \n",
    "    with open('data_coarse.txt', 'r') as file:\n",
    "        data = np.array([[int(num) for num in line.strip().split(',')] for line in file.readlines()])\n",
    "\n",
    "    # compute velocity from distances\n",
    "    vleft  = data[:, 1]\n",
    "    vright = data[:, 2]\n",
    "    u = data[:, 0].reshape((-1, 1)) # duty cycle\n",
    "\n",
    "    left_des, _ = np.array_split(vleft, 2)\n",
    "    right_des, _ = np.array_split(vright, 2)\n",
    "    u_des, _ = np.array_split(u, 2)\n",
    "    \n",
    "    plt.figure()\n",
    "    plt.axis((0, 250, 0, max(max(left_des), max(right_des))+10))\n",
    "    max_vel = min(max(left_des), max(right_des))\n",
    "    plt.plot(u_des, left_des, 'b',  u_des, right_des, 'y')\n",
    "    plt.axhline(max_vel, color='g', linestyle='--')\n",
    "    plt.xlabel(\"u (input via PWM)\")\n",
    "    plt.ylabel(\"Velocity of Wheels\")\n",
    "    labels = (\"left wheel\" , \"right wheel\", \"max velocity\")\n",
    "    plt.legend(labels, loc=2)\n",
    "    \n",
    "    left_idx = find_closest_idx(left_des, max_vel)\n",
    "    right_idx = find_closest_idx(right_des, max_vel)\n",
    "    left_jolt = u_des[left_idx][0]\n",
    "    right_jolt = u_des[right_idx][0]\n",
    "    plt.axvline(left_jolt, color='b', linestyle='--')\n",
    "    plt.axvline(right_jolt, color='y', linestyle='--')\n",
    "    return left_jolt, right_jolt\n",
    "\n",
    "left_jolt, right_jolt = find_jolt()\n",
    "print('int left_jolt = {};\\nint right_jolt = {};'.format(left_jolt, right_jolt))"
   ]
  },
  {
   "cell_type": "markdown",
   "metadata": {},
   "source": [
    "<a id='part1.4'></a>\n",
    "## 1.4 Open Loop Implementation\n",
    "\n",
    "Now implement the controller on the Launchpad. The sketch **`open_loop.ino`** contains some code that implements the open loop control.\n",
    "\n",
    "- Fill in these values in `CODE BLOCK CON1`:\n",
    "    - desired velocity: `v_star` \n",
    "    - estimated parameters: `theta_left`, `theta_right`, `beta_left`, `beta_right`\n",
    "    - initial jolt values: `left_jolt`, `right_jolt`\n",
    "    \n",
    "    \n",
    "- Additionally, we need to compute the PWM input to the motors in `CODE BLOCK CON2`:\n",
    "    - Complete `driveStraght_left_OL()` and `driveStraight_right_OL()` to compute `left_cur_pwm` and `right_cur_pwm` (the PWM inputs for each wheel required for a desired v_star)\n",
    "    \n",
    "    \n",
    "- Fill out `CODE BLOCK CON0` to calculate the control inputs using the functions from `CODE BLOCK CON2`.\n",
    "- Upload the sketch to your Launchpad.\n",
    "- **Make sure that the car is suspended above the desk.** Your car wheels are going to move in this step.\n",
    "\n",
    "Once you are satisfied that your motors work and your open loop control is implemented, put the car on the ground. Make sure the motor switch is on (and that both your motors are still plugged in) and press the `RST` button on your Launchpad. SIXT33N should move straighter than previously because you have accounted for differences in the two motors. Does it behave how you expect? It's okay if it doesn't drive completely straight at this stage.\n",
    "\n",
    "-----"
   ]
  },
  {
   "cell_type": "markdown",
   "metadata": {},
   "source": [
    "<img width='30px' align='left' src=\"http://inst.eecs.berkeley.edu/~ee16b/sp16/lab_pics/check.png\">\n",
    "<br/>\n",
    "# <span style=\"color:green\">CHECKOFF</span>\n",
    "<span style=\"color:green\">**Show your GSI the functioning open-loop control.**</span>\n",
    "## <span style=\"color:red\">**REMEMBER TO SAVE ALL YOUR DATA!!**</span>"
   ]
  },
  {
   "cell_type": "code",
   "execution_count": null,
   "metadata": {
    "collapsed": true
   },
   "outputs": [],
   "source": []
  }
 ],
 "metadata": {
  "anaconda-cloud": {},
  "kernelspec": {
   "display_name": "Python 3",
   "language": "python",
   "name": "python3"
  },
  "language_info": {
   "codemirror_mode": {
    "name": "ipython",
    "version": 3
   },
   "file_extension": ".py",
   "mimetype": "text/x-python",
   "name": "python",
   "nbconvert_exporter": "python",
   "pygments_lexer": "ipython3",
   "version": "3.4.5"
  }
 },
 "nbformat": 4,
 "nbformat_minor": 1
}
