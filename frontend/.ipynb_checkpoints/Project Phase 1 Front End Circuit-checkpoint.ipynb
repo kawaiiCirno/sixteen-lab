{
 "cells": [
  {
   "cell_type": "markdown",
   "metadata": {},
   "source": [
    "# SIXT33N Project\n",
    "## Phase 1: Microphone Front End\n",
    "\n",
    "### EE 16B: Designing Information Devices and Systems II, Fall 2018\n",
    "\n",
    "Written by Nathaniel Mailoa and Emily Naviasky (2016).\n",
    "\n",
    "Updated by Peter Schafhalter and Zain Zaidi (2019).\n",
    "\n",
    "nmailoa@berkeley.edu &emsp; enaviasky@berkeley.edu &emsp; pschafhalter@berkeley.edu &emsp; zzaidi@berkeley.edu"
   ]
  },
  {
   "cell_type": "markdown",
   "metadata": {},
   "source": [
    "\n",
    "## Table of Contents\n",
    "\n",
    "* <a href=\"https://drive.google.com/file/d/1pRf8XXzR0AGahQzfjfMfJ2BCweH6W83b/view?usp=sharing\">Note</a>\n",
    "* [Introduction](#intro)\n",
    "* [Part 1: Circuit Layout and Power](#part1)\n",
    "* [Part 2: Microphone Biasing Circuit](#part2)\n",
    "* [Part 3: Tuning the Microphone's Gain](#part3)\n",
    "* [Part 4: Filtering](#part4)\n",
    "* [Part 5: Data Collection](#part5)"
   ]
  },
  {
   "cell_type": "markdown",
   "metadata": {},
   "source": [
    "## <a href=\"https://drive.google.com/file/d/1pRf8XXzR0AGahQzfjfMfJ2BCweH6W83b/view?usp=sharing\">Introduction</a>\n",
    "\n",
    "<a id='part1'></a>\n",
    "## <span style=\"color:navy\">Part 1: Circuit Layout and Power</span>\n",
    "\n",
    "### Materials\n",
    "- Power supply + cables\n",
    "- 1 LM7805 voltage regulator\n",
    "- 2 1$\\mu$F capacitors\n",
    "- 1 10$\\mu$F capacitor"
   ]
  },
  {
   "cell_type": "markdown",
   "metadata": {},
   "source": [
    "In this part we will build the filtering circuit for our audio input to SIXT33N.\n",
    "\n",
    "Our circuit will need two sources of power: \n",
    "1. **5V (Will come from the voltage regulator)**\n",
    "2. **3.3V (Will come from the launchpad)**\n",
    "\n",
    "**There is no negative voltage source.**\n",
    "\n",
    "Try to divide your breadboard into the following sections so that you have room for them all.\n",
    "- Use both of your (+) rails for 3.3V because most of the circuit will use 3.3V.\n",
    "- Plug your 5V source into a row close to your mic board.  Today, only the mic board uses the 5V supply.\n",
    "- Connect the ground of the 3.3V and 5V supplies, and connect the two (-) to create your ground rail.\n",
    "- The purple section is where you will build your front end.\n",
    "- The blue sections are set aside for your motor driver circuits later in the project\n",
    "\n",
    "<img style=\"width:700px\" src=\"images/circuit_outline_diagram_v2_with_voltage_reg_single_cap.png\">\n",
    "\n",
    "**KEEP YOUR CIRCUIT NEAT!** That goes without saying :)\n",
    "\n",
    "#### Power Supply\n",
    "\n",
    "**In the future:** \n",
    "SIXT33N will run on a 9V battery when it is running around. \n",
    "- A voltage regulator will regulate this 9V down to 5V\n",
    "- Our MSP will take in 5V from the voltage regulator and output 3.3V for our rails.  \n",
    "\n",
    "**For today:** Use the power supply at your bench to power your voltage regulator: \n",
    "- Power your voltage regulator with 9V from the bench power supply\n",
    "- Note that you do not have a -5V rail, nor a -3.3V\n",
    "- Connect both power supplies' grounds on your breadboard\n",
    "- **Limit the current from your supply to 100mA (0.1 amperes)**\n",
    "\n",
    "## Voltage Regulator\n",
    "\n",
    "The Launchpad and the front end circuit need a 5V source, so we need a voltage regulator. The <a href=\"http://www.mouser.com/ds/2/308/LM7805-1124977.pdf\">LM7805</a> is a voltage regulator that outputs 5V. Glance through the datasheet (figure 6) to find the pin diagram. \n",
    "\n",
    "**For now, connect $V_{\\text{in}}$ to 9V from the power supply.** Don't forget to connect the ground of the regulator to the rail you want to be ground. \n",
    "\n",
    "<center>\n",
    "<img width=\"500px\" src=\"images/voltage_reg.png\">\n",
    "<img width=\"200px\" src=\"images/voltage_reg_real.png\">\n",
    "<img width=\"550px\" src=\"images/lmp.png\">\n",
    "</center>\n",
    "\n",
    "**<span style=\"color:red\">Use your multimeter to check that the output of your regulator is 5V.</span>**\n",
    "\n",
    "\n",
    "\n",
    "Now, you are going to be working with some small signals. You don't want to introduce more noise than you need to, and the power rails can be a large source of noise. To keep some noise off of your power rails:\n",
    "\n",
    "### **Add a decoupling capacitor (10 uF, code 106) between your 3.3 V rail and ground.**\n",
    "\n",
    "Decoupling capacitors will reduce fluctuations on your rails (which can occur for example when the voltage source must supply a large amount of current across wires which actually have non-zero resistance and inductance) .  (https://en.wikipedia.org/wiki/Decoupling_capacitor) You should use them in every circuit you build <i>in the future for the rest of your life</i>."
   ]
  },
  {
   "cell_type": "markdown",
   "metadata": {},
   "source": [
    "<a id='part2'></a>\n",
    "## <span style=\"color:navy\">Part 2: Microphone Biasing Circuit</span>\n",
    "\n",
    "### <a href=\"https://drive.google.com/file/d/1h9VJBdatKyvKnTP0SwrhiaAQbIJ6VXai/view?usp=sharing\">Read Part 2 of the note before you begin this part!</a>\n",
    "\n",
    "### Materials\n",
    "- 10k Resistors (x2)\n",
    "- 100k Resistor\n",
    "- Op-amps\n",
    "- Mic Board\n",
    "\n",
    "We will build circuits which provide signals for the OS1 (DC Offset) and OS2 (Level shift) pins."
   ]
  },
  {
   "cell_type": "markdown",
   "metadata": {},
   "source": [
    "### Tasks\n",
    "\n",
    "- Build the circuit shown below.\n",
    "- Use 0 and +3.3V as the power supplies for these op-amps.\n",
    "- Connect your mic board as follows:\n",
    "    - VDD: 5 V from voltage regulator\n",
    "    - VSS: ground\n",
    "    - OS1 and OS2 to the biasing circuit we just built.\n",
    "\n",
    "\n",
    "**The figure below shows the two biasing circuits that we will need to build.** \n",
    "\n",
    "<img style=\"width:800px\" src=\"images/BiasCircuit_V2.png\">"
   ]
  },
  {
   "cell_type": "markdown",
   "metadata": {},
   "source": [
    "<a id='part3'></a>\n",
    "## <span style=\"color:navy\">Part 3: Tuning the Microphone's Gain</span>\n",
    "\n",
    "### Materials\n",
    "- Oscilloscope + probe\n",
    "\n",
    "When you first hook everything up, you might not get anything reasonable - this is totally okay! Tuning the microphone gain is critical to getting it to work correctly.\n",
    "\n",
    "### Tuning Instructions\n",
    "\n",
    "#### Setup:\n",
    "1. Start by making sure your micboard is powered by $5\\mathrm{V}$ from the voltage regulator at VDD and GROUNDED at VSS.\n",
    "2. Make sure OS1 is connected to the output of your voltage divider's buffer, and OS2 is connected to OS1 via a buffer.\n",
    "3. Connect an oscilloscope cable to the output of the micboard.\n",
    "4. Display a peak-to-peak measurement for the current channel on the oscilloscope.\n",
    "    - Press \"Meas\", select \"$V_{p-p}$\", and press \"Add measurement\"\n",
    "5. Display an average measurement for the current channel on the oscilloscope.\n",
    "    - Press \"Meas\", select \"$V_{avg}$\", and press \"Add measurement\"\n",
    "\n",
    "#### Now you are ready to tune your micboard!\n",
    "- In the project, you will be using your *voice*, not tones, with the mic board.\n",
    "- While tuning, talk into the microphone from a comfortable distance (2-3 feet).\n",
    "- This circuit will end up on your car on the ground, and you don't want to have your face on the ground to control it!\n",
    "\n",
    "\n",
    "#### Tuning Overview\n",
    "1. Lower the gain: Turn the potentiometer on your mic board **clockwise**.\n",
    "2. Increase the gain: Turn the gain potentiometer on the mic board **counter-clockwise** until you see a signal with $\\approx2.5\\mathrm{V}_{pp}$ amplitude centered near $1.65\\mathrm{V}$.\n",
    "\n",
    "Congratulations! You have successfully tuned your micboard. \n",
    "\n",
    "\n",
    "#### Note:\n",
    " - The output voltage of the board ranges from $0$ to $3.3\\mathrm{V}$ when the loudest sound is applied.\n",
    " - Test by speaking (loudly) from ~2 feet from the mic board.\n",
    " - We can always adjust this later."
   ]
  },
  {
   "cell_type": "markdown",
   "metadata": {},
   "source": [
    "Now, lets take some measurements of our mic board. Use your o-scope to probe at the OUTPUT pin.\n",
    "\n",
    "\n",
    "**<span style=\"color:red\">What is the DC voltage at the output?</span>**\n",
    "\n",
    "1.65"
   ]
  },
  {
   "cell_type": "markdown",
   "metadata": {},
   "source": [
    "<a id='part4'></a>\n",
    "## <span style=\"color:navy\">Part 4: Filtering</span>\n",
    "\n",
    "### Materials\n",
    "- Op-amps\n",
    "- Resistors\n",
    "- Capacitors\n",
    "- 1 Micboard + biasing circuit\n",
    "- Power supply + cables\n",
    "- Oscilloscope + probe"
   ]
  },
  {
   "cell_type": "markdown",
   "metadata": {},
   "source": [
    "Recall from the previous week's lab that the frequency range for the human voice is about 180-20000Hz (female voice: 300 Hz-17kHz; male voice: 150Hz-8kHz), but most speech falls between **250Hz** and **2500Hz**. In order to minimize noise, we want to only collect data inside this frequency range. So, we'll build a bandpass filter like we did in the color organ lab. \n",
    "\n",
    "### Tasks\n",
    "- Calculate appropriate capacitor and resistor values for your high- and low-pass filters\n",
    "- Build the following circuit on your breadboard\n",
    "    - The buffer at the output with rails of 0V and 3.3V prevents damage to your LaunchPad.\n",
    "    - The high-pass filter is connected to OS2 to keep the signal centered at 1.65V.\n",
    "        - If it were connected to ground, the high-pass filter would remove the 1.65V offset.\n",
    "- Use the micboard output as the input to your band-pass filter.\n",
    "\n",
    "**Once you have built the circuit, check that**\n",
    "- The DC offset at each node is the same as your block diagram.\n",
    "- The gain of each amplifier is the same as your block diagram.\n",
    "- The frequency response of your circuit is correct:\n",
    "    - Use the function generator to apply a specific input frequency with an offset of $1.65\\mathrm{V}$ (instead of $\\mathrm{V_{mic out}}$)\n",
    "    - Watch the output of your signal on your oscilloscope and change the frequency from low to high.\n",
    "    - Check that the amplitude of the output at the cutoff frequency is attenuated as expected.\n",
    "        - $\\mathrm{V_{out}}$ should be close to $\\frac{\\mathrm{V_{in}}}{\\sqrt{2}}$ at the cutoff frequencies.\n",
    "\n",
    "\n",
    "<center><img width='800px' src=\"./images/bandpass.png\"></center>\n",
    "\n",
    "**<span style=\"color:red\">Record your choice of R1, R2, C1 and C2 for the project report!</span>**"
   ]
  },
  {
   "cell_type": "code",
   "execution_count": 3,
   "metadata": {
    "collapsed": false
   },
   "outputs": [
    {
     "name": "stdout",
     "output_type": "stream",
     "text": [
      "Low-pass filter:\n",
      "================\n",
      "Resistor: Ellipsis ohms\n",
      "Capacitor: Ellipsis farads\n",
      "Cutoff frequency: Ellipsis Hz\n",
      "\n",
      "High-pass filter:\n",
      "=================\n",
      "Resistor: Ellipsis ohms\n",
      "Capacitor: Ellipsis farads\n",
      "Cutoff frequency: Ellipsis Hz\n"
     ]
    }
   ],
   "source": [
    "### YOUR CODE HERE\n",
    "R_low_pass = ...\n",
    "C_low_pass = ...\n",
    "f_cutoff_low_pass = ...\n",
    "\n",
    "R_high_pass = ...\n",
    "C_high_pass = ...\n",
    "f_cutoff_high_pass = ...\n",
    "\n",
    "print(\"Low-pass filter:\")\n",
    "print(\"================\")\n",
    "print(\"Resistor: {} ohms\".format(R_low_pass))\n",
    "print(\"Capacitor: {} farads\".format(C_low_pass))\n",
    "print(\"Cutoff frequency: {} Hz\".format(f_cutoff_low_pass))\n",
    "\n",
    "print(\"\")\n",
    "\n",
    "print(\"High-pass filter:\")\n",
    "print(\"=================\")\n",
    "print(\"Resistor: {} ohms\".format(R_high_pass))\n",
    "print(\"Capacitor: {} farads\".format(C_high_pass))\n",
    "print(\"Cutoff frequency: {} Hz\".format(f_cutoff_high_pass))"
   ]
  },
  {
   "cell_type": "markdown",
   "metadata": {},
   "source": [
    "<a id='part5'></a>\n",
    "## <span style=\"color:navy\">Part 5: Data Collection</span>\n",
    "\n",
    "### Materials\n",
    "- Part 1 setup\n",
    "- Launchpad + USB cable"
   ]
  },
  {
   "cell_type": "markdown",
   "metadata": {},
   "source": [
    "Your Launchpad will be colleting your speech data, so you will want to make sure that you can digitize your analog signal properly and nothing on your Launchpad is broken. \n",
    "\n",
    "\n",
    "### Tasks\n",
    "- Upload <b>`adc_read.ino`</b> to the Launchpad.\n",
    "- Connect pin `6.0` to the output of your circuit.\n",
    "- Connect the ground of the Launchpad to the ground of your circuit.\n",
    "- **Press the reset button on your Launchpad.**\n",
    "- From the command line, run **`python adc_read.py -D COM###`** (substitute `###` with the proper number from Device Manager).\n",
    "\n",
    "If you see a graph on your screen with a signal that changes when you make noises at your microphone and is centered in the middle of the graph, then you have succeeded! Congratulations!"
   ]
  },
  {
   "cell_type": "markdown",
   "metadata": {},
   "source": [
    "<img width='30px' align='left' src=\"http://inst.eecs.berkeley.edu/~ee16b/sp16/lab_pics/check.png\">\n",
    "<br/>\n",
    "<h2 style=\"color:green\">CHECKPOINT</h2>\n",
    "\n",
    "#### Checkoff Quiz: https://goo.gl/forms/l05O82RbLra0MReq2\n",
    "\n",
    " <span style=\"color:green\">**Show your GSI your working circuit with the microphone.** Make sure the voltage ranges, gain and cutoff frequencies are as expected from your design. </span>\n",
    "\n",
    "<span style=\"color:red\">**Remember what each part of your circuit is for (Record this in a Google doc or somewhere else safe). You will need to write a summary for your final report.**</span>\n",
    "\n",
    "**Back up this document (e.g. to Google Drive). Lab accounts occasionally run out of storage and you might lose this document.**"
   ]
  }
 ],
 "metadata": {
  "anaconda-cloud": {},
  "kernelspec": {
   "display_name": "Python 3",
   "language": "python",
   "name": "python3"
  },
  "language_info": {
   "codemirror_mode": {
    "name": "ipython",
    "version": 3
   },
   "file_extension": ".py",
   "mimetype": "text/x-python",
   "name": "python",
   "nbconvert_exporter": "python",
   "pygments_lexer": "ipython3",
   "version": "3.4.5"
  }
 },
 "nbformat": 4,
 "nbformat_minor": 1
}
