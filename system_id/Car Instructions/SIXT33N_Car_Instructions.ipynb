{
 "cells": [
  {
   "cell_type": "markdown",
   "metadata": {},
   "source": [
    "# SIXT33N Car Instructions"
   ]
  },
  {
   "cell_type": "markdown",
   "metadata": {},
   "source": [
    "## Car Assembly\n",
    "\n",
    "**<span style=\"color:red\">IMPORTANT: Don't attach the black encoder disks to the motors in this set of instructions. Wait until instructed in the next lab.</span>**\n",
    "\n",
    "- You will need two motors that are mirrored so you can have both left and right wheels as shown in the images below.\n",
    "- Look at the white plastic part on the head of each motor.\n",
    "    - One side is rounded with metal tabs for wires, while the other is flat.\n",
    "    - The rounded side and tabs will face the wheel, so we will attach the metal piece to the flat side.\n",
    "- Note the two screw holes in the top of the metal pieces.\n",
    "    - These should face the same direction on each motor.\n",
    "- Screw the rectangular metal piece to the motor using the long screws and nuts as shown below.\n",
    "    - If you're in lab, you can use the tips of the wire cutters at your bench as pliers to hold the nuts while you tighten the screws with the screwdriver. \n",
    "    \n",
    "<center>\n",
    "<img style=\"transform: rotate(270deg); width:400px\" src=\"images/paired_motors.jpg\">\n",
    "</center>\n",
    "<br/>\n",
    "<center>\n",
    "<img style=\"width:500px\" src=\"images/paired_motors_3.jpg\">\n",
    "</center>"
   ]
  },
  {
   "cell_type": "markdown",
   "metadata": {},
   "source": [
    "<br/><br/>\n",
    "Solder two wires to each motor as shown below, facing away from the axle.\n",
    "<br/><br/>\n",
    "\n",
    "<center>\n",
    "<img width=\"500px\" src=\"images/paired_motors_w_frame.jpg\">\n",
    "</center>"
   ]
  },
  {
   "cell_type": "markdown",
   "metadata": {},
   "source": [
    "<br/><br/>\n",
    "Screw the motors to the body of the car using 2 small screws. *Don't* put nuts between the body and the motors. Ripping the paper sticker away from the body is optional.\n",
    "<br/><br/>\n",
    "<center>\n",
    "<img width=\"400px\" src=\"images/motors_screwed_angle.jpg\">\n",
    "</center>"
   ]
  },
  {
   "cell_type": "markdown",
   "metadata": {},
   "source": [
    "<br/>\n",
    "Attach the back (caster) wheel using 4 small screws and nuts. \n",
    "\n",
    "**Tape this wheel straight, pointing out from the car, or it will interfere with your data collection.**\n",
    "<br/><br/>\n",
    "<center>\n",
    "<img width=\"400px\" src=\"images/caster_wheel_top.jpg\">\n",
    "</center>"
   ]
  },
  {
   "cell_type": "markdown",
   "metadata": {},
   "source": [
    "Attach the wheels to the outside white axles. Ensure that you ease the wheels in rather than forcing the wheels.\n",
    "## **DO NOT try to remove the wheels once you attach them to the axles.** \n",
    "</br>\n",
    "<center>\n",
    "<img width=\"400px\" src=\"images/final.jpg\">\n",
    "</center>"
   ]
  },
  {
   "cell_type": "markdown",
   "metadata": {},
   "source": [
    "## YOU'RE DONE!"
   ]
  }
 ],
 "metadata": {
  "anaconda-cloud": {},
  "kernelspec": {
   "display_name": "Python [conda root]",
   "language": "python",
   "name": "conda-root-py"
  },
  "language_info": {
   "codemirror_mode": {
    "name": "ipython",
    "version": 3
   },
   "file_extension": ".py",
   "mimetype": "text/x-python",
   "name": "python",
   "nbconvert_exporter": "python",
   "pygments_lexer": "ipython3",
   "version": "3.5.4"
  }
 },
 "nbformat": 4,
 "nbformat_minor": 0
}
