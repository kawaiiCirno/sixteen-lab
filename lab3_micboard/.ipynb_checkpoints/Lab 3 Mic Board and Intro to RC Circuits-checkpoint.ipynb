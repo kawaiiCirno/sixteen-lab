{
 "cells": [
  {
   "cell_type": "markdown",
   "metadata": {},
   "source": [
    "# Lab 3: Mic Board and Intro to RC Circuits\n",
    "\n",
    "### EE 16B: Designing Information Devices and Systems II, Spring 2019"
   ]
  },
  {
   "cell_type": "markdown",
   "metadata": {},
   "source": [
    "\n",
    "## Table of Contents\n",
    "\n",
    "\n",
    "* [Introduction](#intro)\n",
    "* [Task 1: Solder mic board](#task1)\n",
    "* [Task 2: Test your mic board](#task2)\n",
    "* [Task 3: Capacitor Value](#task3)"
   ]
  },
  {
   "cell_type": "markdown",
   "metadata": {},
   "source": [
    "<a id='part1'></a>\n",
    "# <span style=\"color:navy\">Part 1: Soldering</span>"
   ]
  },
  {
   "cell_type": "markdown",
   "metadata": {},
   "source": [
    "### Materials\n",
    "- Soldering iron\n",
    "- Solder\n",
    "- Perf board\n",
    "- Wires"
   ]
  },
  {
   "cell_type": "markdown",
   "metadata": {},
   "source": [
    "## Tasks"
   ]
  },
  {
   "cell_type": "markdown",
   "metadata": {},
   "source": [
    "### 1.1. Watch the soldering video"
   ]
  },
  {
   "cell_type": "code",
   "execution_count": null,
   "metadata": {
    "collapsed": true
   },
   "outputs": [],
   "source": [
    "from IPython.display import IFrame\n",
    "\n",
    "IFrame(\"https://www.youtube.com/embed/f95i88OSWB4\", 560, 315)"
   ]
  },
  {
   "cell_type": "markdown",
   "metadata": {},
   "source": [
    "### 1.2. Practice Soldering\n",
    "\n",
    "- Practice soldering the wires to the perf-board.\n",
    "\n",
    "**Tips:**\n",
    "- Don't touch the iron while it's hot -- use the handle!\n",
    "- [See more tips in the note](note3_micboard.pdf)\n",
    "\n",
    "# DO NOT DO THIS:\n",
    "![i'm serious](images/bad_soldering.jpg)"
   ]
  },
  {
   "cell_type": "markdown",
   "metadata": {},
   "source": [
    "<a id='part2'></a>\n",
    "# <span style=\"color:navy\">Part 2: Making your Mic Board</span>\n",
    "\n",
    "### Materials\n",
    "- 1 x microphone\n",
    "- 1 x Op Amp\n",
    "- 1 x 8-pin socket\n",
    "- 2 x 1 uF Capacitors\n",
    "- 1 x 10 k$\\Omega$ Resistor\n",
    "- 1 x 1 k$\\Omega$ Resistor\n",
    "- 1 x 50 k$\\Omega$ Potentiometer\n",
    "- 6 x Jumper pins (don't break apart!)\n",
    "- 1 x Mic board PCB"
   ]
  },
  {
   "cell_type": "markdown",
   "metadata": {},
   "source": [
    "## Tasks"
   ]
  },
  {
   "cell_type": "markdown",
   "metadata": {},
   "source": [
    "### 1.1. Build your mic board\n",
    "- Follow the instructions in [MicBoard.pdf](./MicBoard.pdf)\n",
    "    - **Note: Pay careful attention to the orientation of the PCB board and the resister values that you are soldering. Double check all components with schematic before soldering to avoid mistakes.**\n",
    "\n",
    "\n",
    "### 1.2. Test your mic board\n",
    "**Setup:**\n",
    "1. Start by making sure that your micboard is powered by **5V at VDD** and **-5V at VSS**.\n",
    "2. Make sure **OS2 is grounded** and **OS1 is connected to ground by a 100K ohm** resistor.\n",
    "3. Connect an oscilloscope cable to the output.\n",
    "4. Display a **peak to peak measurement** for the oscilloscope channel used to measure.\n",
    "\n",
    "**Now you are ready to tune your mic board!**\n",
    "1. **Play a 1000Hz pure tone** on your phone at a reasonable volume. Make sure to point the speaker directly at the mic and hold it a few inches away from the mic.\n",
    "2. Turn the potentiometer (with a screwdriver instead of your fingers for finer increments in gain) until you see an a sine wave with a **peak-to-peak around 5V** on your oscilloscope.\n",
    "3. Verify that the frequency of the measured sinewave is 1000Hz using your oscilloscope. You may need to adjust the time scale on the display.\n",
    "\n",
    "Frequency of a sine wave:\n",
    "\n",
    "$$f = \\frac{1}{T}$$\n",
    "\n",
    "where $T$ is the *period*, or the length of 1 cycle in the sine wave."
   ]
  },
  {
   "cell_type": "markdown",
   "metadata": {},
   "source": [
    "<img width='30px' align='left' src=\"http://inst.eecs.berkeley.edu/~ee16b/sp16/lab_pics/check.png\">\n",
    "\n",
    "## <span style=\"color:green\">CHECKPOINT 1</span>\n",
    "<span style=\"color:green\">Don't submit a checkoff request at this point. Just raise your hand and show your GSI your the mic board output on the oscilloscope display.</span>"
   ]
  },
  {
   "cell_type": "markdown",
   "metadata": {},
   "source": [
    "<a id='part2'></a>\n",
    "## <span style=\"color:navy\">Part 2: Mystery Capacitor</span>\n",
    "\n",
    "### Materials\n",
    "- Mystery Capacitor\n",
    "- Known Resistor\n",
    "- Switch\n",
    "- Oscilloscope\n",
    "- Power Supply"
   ]
  },
  {
   "cell_type": "markdown",
   "metadata": {},
   "source": [
    "To estimate the value of the capacitor, we can measure the time it takes for the capacitor to charge and reach a specific voltage. Remember that capacitors take a while to fully charge and reach steady state. This means that we can build the following circuit which charges the capacitor to let us estimate its value:\n",
    "\n",
    "<img style=\"width: 250px\" src=\"images/mystery_circuit.png\">\n",
    "\n",
    "You may find the following equations useful:\n",
    "\n",
    "Capacitence: $ Q = CV(t) $\n",
    "\n",
    "Relationship between charge and current: $\\frac{dQ}{dt} = i(t)$"
   ]
  },
  {
   "cell_type": "markdown",
   "metadata": {},
   "source": [
    "# Questions"
   ]
  },
  {
   "cell_type": "markdown",
   "metadata": {},
   "source": [
    "**<span style=\"color:green\">1. Find I in terms of battery voltage $V_{bat}$, capacitor voltage $V_c$, and $R$.</span>**"
   ]
  },
  {
   "cell_type": "markdown",
   "metadata": {},
   "source": [
    "**<span>Assume the capacitor is not charged. At time t=0, you flip the switch.</span>**\n",
    "\n",
    "**<span style=\"color:green\">2. Find an equation for the voltage across the capacitor $V_C(t)$ in terms of $R$, $C$, and $t$ at exactly time $t=0$.</span>**\n",
    "\n",
    "*HINT: If the capacitor voltage were to change instantly, what condition would that impose on the current at that moment?*"
   ]
  },
  {
   "cell_type": "markdown",
   "metadata": {},
   "source": [
    "**<span style=\"color:green\">3. Find an equation for the voltage across the capacitor $V_C(t)$ in terms of $R$, $C$, and $t$ when the switch is closed and the circuit is in steady state ($t=\\infty$).</span>**"
   ]
  },
  {
   "cell_type": "markdown",
   "metadata": {},
   "source": [
    "**<span style=\"color:green\">4. Find an equation for the voltage across the capacitor $V_C(t)$ in terms of $R$, $C$, and $t$ that describes the behavior between $t=0$ and $t=\\infty$.</span>**"
   ]
  },
  {
   "cell_type": "markdown",
   "metadata": {},
   "source": [
    "**<span style=\"color:green\">5. Now rearrange your solution to the previous question to find $C$ in terms of the other variables, and implement the solution in Python below:</span>**\n",
    "\n",
    "*HINT: you may find the function `np.log` useful.*"
   ]
  },
  {
   "cell_type": "code",
   "execution_count": null,
   "metadata": {
    "collapsed": true
   },
   "outputs": [],
   "source": [
    "import numpy as np\n",
    "\n",
    "def compute_capacitance(t, V_C, R, V_DD=5):\n",
    "    # TODO: your code here\n",
    "    pass"
   ]
  },
  {
   "cell_type": "markdown",
   "metadata": {},
   "source": [
    "## Tasks\n",
    "\n",
    "### Solving the Mystery Capacitor\n",
    "\n",
    "**Setup:**\n",
    "1. Build the above circuit using $R = 100k\\Omega$ or $R = 200k\\Omega$.\n",
    "2. Connect the oscilloscope probe across the capacitor to measure $V_C(t)$.\n",
    "3. Set the time scale of the oscilloscope to 500ms or greater and the vertical scale 2V or greater. **Do not use autoscale.**\n",
    "4. Verify that the **switch is open (no current can pass)** and that **the nodes surrounding the capacitor are 0V.**\n",
    "\n",
    "**Now you are ready to charge the capacitor!**\n",
    "\n",
    "1. **Flip the switch** so the capacitor is charging.\n",
    "2. **Press the \"Stop\" button** on the oscilloscope once the display captures a large portion of the curve.\n",
    "\n",
    "\n",
    "**Analyze the results:**\n",
    "1. Use the cursors on the oscilloscope to find a time using \"delta x\" and a voltage using \"delta y\":\n",
    "    1. Press the \"cursor\" button under \"measure\"\n",
    "    2. Set the mode to \"track\" in the cursors menu.\n",
    "    3. Adjust $x_1$ to line up with the start of the rising curve.\n",
    "    4. Set $x_2$ to any value before the curve reaches its maximum value.\n",
    "    5. HINT: try to use a nice \"delta x\" value.\n",
    "2. Use the \"delta x\" and \"delta y\" values from the oscilloscope to compute the value of the mystery capacitor."
   ]
  },
  {
   "cell_type": "code",
   "execution_count": null,
   "metadata": {
    "collapsed": true
   },
   "outputs": [],
   "source": [
    "# YOUR CODE HERE: fill in these values\n",
    "t = 0\n",
    "V_t = 0\n",
    "R = 0\n",
    "V_DD = 5"
   ]
  },
  {
   "cell_type": "code",
   "execution_count": null,
   "metadata": {
    "collapsed": true,
    "scrolled": true
   },
   "outputs": [],
   "source": [
    "C_myst = compute_capacitance(t, V_t, R, V_DD)\n",
    "\n",
    "print(C_myst)"
   ]
  },
  {
   "cell_type": "markdown",
   "metadata": {},
   "source": [
    "**<span style=\"color:green\">What is the value of your capacitor?</span>**"
   ]
  },
  {
   "cell_type": "markdown",
   "metadata": {},
   "source": [
    "Great job! You have solved the mystery and learned how circuits involving capacitors behave according to the differential equations taught in lecture."
   ]
  },
  {
   "cell_type": "markdown",
   "metadata": {},
   "source": [
    "<a id='part3'></a>\n",
    "## <span style=\"color:navy\">Part 3: Filters</span>\n",
    "\n",
    "### Materials\n",
    "- Circuit from Part 2\n",
    "- Function generator\n",
    "- Oscilloscope\n",
    "- Power Supply"
   ]
  },
  {
   "cell_type": "markdown",
   "metadata": {},
   "source": [
    "## Tasks"
   ]
  },
  {
   "cell_type": "markdown",
   "metadata": {},
   "source": [
    "### 3.1. Flip the Switch\n",
    "\n",
    "**Setup:**\n",
    "1. Make sure the top pin on the switch is connected to +5V.\n",
    "2. Connect the middle pin on the switch to your resistor from Part 2.\n",
    "3. Conncet the bottom pin on the switch to -5V.\n",
    "\n",
    "Your new circuit should look like the diagram below:\n",
    "![circuit](images/TwoWaySwitch.png)\n",
    "\n",
    "**Experiment:**\n",
    "1. Set the time resolution on your oscilloscope to either 500 ms or 1 s, and the voltage resolution to 2V per division.\n",
    "2. Flip the switch between on and off at a slow, regular pace, and observe $V_C(t)$ on the oscilloscope.\n",
    "3. Now flip the switch rapidly, and observe $V_C(t)$ on the oscilloscope."
   ]
  },
  {
   "cell_type": "markdown",
   "metadata": {},
   "source": [
    "**<span style=\"color:green\">How does the speed at which you flip the switch affect $V_C(t)$? Is the peak-to-peak voltage larger when flipping quickly or slowly?</span>**"
   ]
  },
  {
   "cell_type": "markdown",
   "metadata": {},
   "source": [
    "## 3.2. Automatic switch flipping\n",
    "\n",
    "Now we'll replace the switch which simulates a square wave from -5V to +5V using your function generator.\n",
    "\n",
    "**Setup:**\n",
    "1. Remove the switch.\n",
    "2. Change your resistor to 1k$\\Omega$.\n",
    "3. Connect the function generator to the resistor.\n",
    "4. Generate a 10 Vpp (Vpp mean peak-to-peak) sine wave.\n",
    "    - *Remember to set your function generator to High Z!*\n",
    "\n",
    "**Experiment:**\n",
    "1. Set the function generator's frequency to the frequencies given in code below.\n",
    "2. For each frequency, record the peak-to-peak voltage observed on the oscilloscope.\n",
    "    - Hint: Press the \"Meas\" button, set \"Type\" to \"Voltage/Peak-Peak\", and then \"Add Measurement\""
   ]
  },
  {
   "cell_type": "code",
   "execution_count": null,
   "metadata": {
    "collapsed": true
   },
   "outputs": [],
   "source": [
    "# Frequencies given in Hz\n",
    "frequencies = [1, 5, 10, 20, 40, 60, 80, 100, 200, 500, 1000, 10000]\n",
    "\n",
    "# YOUR CODE HERE:\n",
    "peak_to_peak_voltages = [10, 9.3, 8.5, 5.7, 3.5, 2.5, 1.9, 1.6, 1, 0.5, 0.3, 0.2]"
   ]
  },
  {
   "cell_type": "markdown",
   "metadata": {},
   "source": [
    "## 3.3. Analyzing your results"
   ]
  },
  {
   "cell_type": "code",
   "execution_count": null,
   "metadata": {
    "collapsed": true
   },
   "outputs": [],
   "source": [
    "import matplotlib.pyplot as plt\n",
    "%matplotlib inline"
   ]
  },
  {
   "cell_type": "markdown",
   "metadata": {},
   "source": [
    "Plot your results below:"
   ]
  },
  {
   "cell_type": "code",
   "execution_count": null,
   "metadata": {
    "collapsed": true
   },
   "outputs": [],
   "source": [
    "plt.xlabel(\"Frequency (Hz)\")\n",
    "plt.ylabel(\"Peak-to-Peak Voltage\")\n",
    "plt.title(\"Frequency vs Output Voltage\")\n",
    "plt.plot(frequencies[:-2], peak_to_peak_voltages[:-2])"
   ]
  },
  {
   "cell_type": "code",
   "execution_count": null,
   "metadata": {
    "collapsed": true
   },
   "outputs": [],
   "source": [
    "plt.xlabel(\"Frequency (Hz)\")\n",
    "plt.ylabel(\"Peak-to-Peak Voltage\")\n",
    "plt.title(\"log-Frequency vs log-Output Voltage\")\n",
    "plt.loglog(frequencies, peak_to_peak_voltages)"
   ]
  },
  {
   "cell_type": "markdown",
   "metadata": {},
   "source": [
    "**<span style=\"color:green\">What do you notice as the frequency increases?</span>**"
   ]
  },
  {
   "cell_type": "markdown",
   "metadata": {},
   "source": [
    "**<span style=\"color:green\">Explain why you observed these results. Hint: how the frequency of the input affect the charging of the capacitor?</span>**"
   ]
  },
  {
   "cell_type": "markdown",
   "metadata": {},
   "source": [
    "**<span style=\"color:green\">Find the voltage where the resistor dissipates half of the power.</span>**\n",
    "\n",
    "Hint 1: recall that $P = \\frac{V_{in}^2}{R}$, so $\\frac{P}{2} = \\frac{V_{\\text{half power}}^2}{R}$ where $R$ and $P$ remain constant. Solve for $V_{\\text{half power}}$ in terms of $V_{in}$.\n",
    "\n",
    "Hint 2: $V_{in}$ is the peak-to-peak voltage of your sine-wave coming from the function generator."
   ]
  },
  {
   "cell_type": "markdown",
   "metadata": {},
   "source": [
    "**<span style=\"color:green\">Locate the frequency where the resistor dissipates half of the power using the graph.</span>**\n",
    "\n",
    "Hint: consider adjusting the range of frequences plotted to zoom in on a section."
   ]
  },
  {
   "cell_type": "markdown",
   "metadata": {},
   "source": [
    "**<span style=\"color:green\">Convert this frequency to radians.</span>**"
   ]
  },
  {
   "cell_type": "markdown",
   "metadata": {},
   "source": [
    "**<span style=\"color:green\">Multiply your resistor value $R$ by your capacitor value $C$. What do you notice about the relationship between the cutoff frequency and $RC$?</span>**"
   ]
  },
  {
   "cell_type": "markdown",
   "metadata": {},
   "source": [
    "<img width='30px' align='left' src=\"http://inst.eecs.berkeley.edu/~ee16b/sp16/lab_pics/check.png\">\n",
    "<h2><span style=\"color:green\">Checkoff</span></h2>\n",
    "\n",
    "- Complete [this quiz](https://goo.gl/forms/bzlzPgYRSucIuIlH3).\n",
    "- Show mic board working and its frequency response.\n",
    "- Show capacitor calculations for value of capacitor.\n",
    "- Show your analysis.\n",
    "- Return mystery capacitor **after checkoff**."
   ]
  }
 ],
 "metadata": {
  "anaconda-cloud": {},
  "kernelspec": {
   "display_name": "Python 3",
   "language": "python",
   "name": "python3"
  },
  "language_info": {
   "codemirror_mode": {
    "name": "ipython",
    "version": 3
   },
   "file_extension": ".py",
   "mimetype": "text/x-python",
   "name": "python",
   "nbconvert_exporter": "python",
   "pygments_lexer": "ipython3",
   "version": "3.4.5"
  }
 },
 "nbformat": 4,
 "nbformat_minor": 1
}
