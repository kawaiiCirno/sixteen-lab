{
 "cells": [
  {
   "cell_type": "markdown",
   "metadata": {},
   "source": [
    "\n",
    "# Lab 1: Debugging\n",
    "### EE16B: Designing Information Devices and Systems II, Spring 2019\n",
    "\n",
    "-----"
   ]
  },
  {
   "cell_type": "markdown",
   "metadata": {},
   "source": [
    "**Name 1**: \n",
    "\n",
    "**Login**: ee16b-\n",
    "\n",
    "\n",
    "**Name 2**:\n",
    "\n",
    "**Login**: ee16b-"
   ]
  },
  {
   "cell_type": "markdown",
   "metadata": {},
   "source": [
    "<a id='part0'></a>\n",
    "## <span style=\"color:#075a04\">NOTE: All questions in green are required for checkoff! </span>\n",
    "\n"
   ]
  },
  {
   "cell_type": "markdown",
   "metadata": {},
   "source": [
    "<a id='part0'></a>\n",
    "# <span style=\"color:navy\">Part 0: Introduction </span>\n",
    "-----"
   ]
  },
  {
   "cell_type": "markdown",
   "metadata": {},
   "source": [
    "## Materials:\n",
    "- Lab notes\n",
    "- Debugging guide\n",
    "- Headphones\n",
    "\n",
    "\n",
    "## Tasks:\n",
    "\n",
    "### 1. The art of debugging\n",
    "- Read over the debugging guide and watch the linked videos. They will introduce you to the tools of the lab which will help you build and debug the circuits in EE16B.\n",
    "\n",
    "### 2. Review\n",
    "- Skim over the lab notes. Every lab will come with notes that provide a technical review of the concepts covered in lab as well as theoretical connections. **You should read the notes before lab.** The notes serve as review and may help you as a reference during lab section.\n",
    "\n",
    "\n",
    "### 3. Equipment\n",
    "- Obtain 1x part kit containing breadboard, LEDs, op-amps, and other components you will use in lab.\n",
    "- Obtain 1x MSP430 which you will use to interface between your circuits and the computer."
   ]
  },
  {
   "cell_type": "markdown",
   "metadata": {},
   "source": [
    "<a id='part1'></a>\n",
    "# <span style=\"color:navy\">Part 1: Your first circuit </span>\n",
    "-----"
   ]
  },
  {
   "cell_type": "markdown",
   "metadata": {
    "collapsed": true
   },
   "source": [
    "## Materials:\n",
    "- Breadboard\n",
    "- Wires\n",
    "- Op amp\n",
    "- 2x oscilloscope probe\n",
    "- Function generator probe\n",
    "- Voltage generator leads\n",
    "- 1 k$\\Omega$ resistor\n",
    "- 100 k$\\Omega$ resistor\n",
    "\n",
    "\n",
    "## Tasks: \n",
    "\n",
    "### 1. Build the circuit below.\n",
    "<center>\n",
    "<img width='500px'\n",
    "src=\"images/circuit_build.png\">\n",
    "</center>\n",
    "\n",
    "**NOTE:** The op-amps in your circuit kit are the 8-legged black components with a half-circle on one side. The pins (legs) correspond to the following nodes:\n",
    "<center>\n",
    "<img width='500px'\n",
    "src=\"images/op_amp_pinout.png\">\n",
    "</center>\n",
    "\n",
    "### 2. Test your amplifier.\n",
    "- Generate a sinusoidal signal:\n",
    "  - 1 kHz\n",
    "  - 100 mVpp - **think about what this means for the min and max voltages.**\n",
    "  - 0 mV offset\n",
    "  - *Remember to set the function generator's output impedence to \"High Z\"*\n",
    "\n",
    "- Use the oscilloscope to probe $V_{in}$ and $V_{out}$ simultaneously. **DO NOT insert the oscilloscope probe directly into the breadboard** - make sure you use the hook attachment connected to a wire, and probe with the wire.\n",
    "\n",
    "- **Sanity Check Question:** <span style=\"color:#ba190f\">**What should VDD and VSS be?**</span> Hint: what is the range of the input sinusoidal signal? What is our gain? What will the range of the output signal be?\n",
    "\n",
    "### 3. KEEP this circuit on your breadboard!\n",
    "- Show the circuit and oscilloscope board output during checkoff."
   ]
  },
  {
   "cell_type": "markdown",
   "metadata": {},
   "source": [
    "<a id='part2'></a>\n",
    "## <span>Questions:</span>\n",
    "\n",
    "#### <span style=\"color:#075a04\">Ex. Are you a human of action or thought?</span>  \n",
    "Answer: both."
   ]
  },
  {
   "cell_type": "markdown",
   "metadata": {},
   "source": [
    "#### <span style=\"color:#075a04\"> 1. What is the circuit?  What does it do to the input signal?"
   ]
  },
  {
   "cell_type": "markdown",
   "metadata": {},
   "source": [
    "Answer: The input signal is multiplied by 100 and made negative"
   ]
  },
  {
   "cell_type": "markdown",
   "metadata": {},
   "source": [
    "#### <span style=\"color:#075a04\"> 2. What is the gain of the circuit?"
   ]
  },
  {
   "cell_type": "markdown",
   "metadata": {},
   "source": [
    "Answer: 100"
   ]
  },
  {
   "cell_type": "markdown",
   "metadata": {},
   "source": [
    "#### <span style=\"color:#075a04\"> 3. How can you change the gain?\n"
   ]
  },
  {
   "cell_type": "markdown",
   "metadata": {},
   "source": [
    "Answer: By changing the values of the resistors"
   ]
  },
  {
   "cell_type": "markdown",
   "metadata": {},
   "source": [
    "#### <span style=\"color:#075a04\"> 4. What happens when you:\n",
    "\n",
    "#### <span style=\"color:#075a04\"> a) Flip the polarity (i.e. switch the inputs to the +/- input terminals of the op amp)? In other words, what happens if you switch the inputs to the VDD and VSS?"
   ]
  },
  {
   "cell_type": "markdown",
   "metadata": {},
   "source": [
    "Answer:. "
   ]
  },
  {
   "cell_type": "markdown",
   "metadata": {},
   "source": [
    "#### <span style=\"color:#075a04\"> b) Short \"+\" and \"-\" input terminals?"
   ]
  },
  {
   "cell_type": "markdown",
   "metadata": {},
   "source": [
    "Answer: "
   ]
  },
  {
   "cell_type": "markdown",
   "metadata": {},
   "source": [
    "#### <span style=\"color:#075a04\"> c) Increase the amplitude of your sinusoidal input to 200 mV peak-to-peak? Hint: what is the maximum amplitude the circuit can output?"
   ]
  },
  {
   "cell_type": "markdown",
   "metadata": {},
   "source": [
    "Answer:"
   ]
  },
  {
   "cell_type": "markdown",
   "metadata": {},
   "source": [
    "#### <span style=\"color:#075a04\"> d) What happens if the Op Amp VSS = -1 V?"
   ]
  },
  {
   "cell_type": "markdown",
   "metadata": {},
   "source": [
    "Answer:"
   ]
  },
  {
   "cell_type": "markdown",
   "metadata": {},
   "source": [
    "#### <span style=\"color:#075a04\"> e) Keeping $\\frac{R_f}{R_{in}}$ constant, do the resistors' values affect circuit output / performance (ex: $\\frac{100k \\Omega}{10k\\Omega}$ equivalent to $\\frac{100\\Omega}{10\\Omega}$)? Is it better to use large or small resistor values, and why?"
   ]
  },
  {
   "cell_type": "markdown",
   "metadata": {},
   "source": [
    "Answer:"
   ]
  },
  {
   "cell_type": "markdown",
   "metadata": {},
   "source": [
    "<a id='part2'></a>\n",
    "# <span style=\"color:navy\">Part 2: Debugging in Action</span>\n",
    "\n",
    "------"
   ]
  },
  {
   "cell_type": "markdown",
   "metadata": {},
   "source": [
    "## Materials:\n",
    "- MSP430\n",
    "- Male-to-female wires\n",
    "- Oscilloscope probe(s)\n",
    "- Voltage generator leads\n",
    "- Pre-built buggy circuit (get from TA)\n",
    "\n",
    "\n",
    "## Tasks:\n",
    "\n",
    "### 1. Observe the circuit\n",
    "- Don't fix anything quite yet, but note the neatness of the circuit. It follows the following best practices which we encourage you to strive for in lab:\n",
    "    - Use the rails of the breadboard. + is power (positive or negative). - is ground.\n",
    "    - Color-code wires. Usually, red is constant power; black is ground; and other colors are for variable voltages.\n",
    "    - Cut wires to appropriate lengths. Wires that are too long might become loose and get disconnected.\n",
    "    - Wires should not cross other components. This makes the circuit difficult to decypher.\n",
    "    \n",
    "### 2. Setup\n",
    "- Connect the 3.3 V rail and the ground rail on the breadboard to the voltage generator. **Use the 6 V section of the voltage generator.**\n",
    "- Connect the following pins on the MSP430 to the circuit:\n",
    "    - Pin 1.4 for A and pin 1.5 for B.\n",
    "    - `GND` to the ground rail. *Remember to always ground your MSP. This will help you avoid many bugs.*\n",
    "- Upload `adder.ino` to the MSP430 using Energia. This will start the program.\n",
    "- Open Energia's serial monitor and set the baud rate to 38400.\n",
    "\n",
    "### 3. Debug\n",
    "- Using the oscilloscope and circuit diagram/information below, debug the circuit. Here are some tips:\n",
    "    - *Expectation vs reality.* Know what the circuit should do if it were correct. Figure out what you should see at some set of nodes. Then see whether that's actually happening.\n",
    "    - *Circuits are modular.* Determining expected voltages at certain nodes is easier than at others. For example, the half-adder is built using an XOR and an AND gate, which in-turn are constructured with four and two NAND gates respectively. By probing along modules, you can narrow down a bug to a certain section of the circuit. This is especially useful for large, complicated circuits.\n",
    "    - *Components can break, but usually not.* Rarely, you might get a faulty component. However, it's much more likely that there's a bug in your circuit. Even if you suspect that a component may be faulty, try to debug first. You can also disconnect and test the component individually. In complicated circuits, a bug in another section might cause components to break, so debugging is always a good idea. **If you request a replacement component, make sure you can explain why you believe the component is broken and what caused it to break.**\n",
    "    \n",
    "    \n",
    "To help you debug, here are the pinouts and details about how the circuit is constructed:"
   ]
  },
  {
   "cell_type": "markdown",
   "metadata": {},
   "source": [
    "<center>\n",
    "<img width='700px'\n",
    "src=\"images/AND_NAND_pinout.png\">\n",
    "</center>\n",
    "\n",
    "<center>\n",
    "<img width='700px'\n",
    "src=\"images/XOR_NAND_pinout.png\">\n",
    "</center>\n"
   ]
  },
  {
   "cell_type": "markdown",
   "metadata": {},
   "source": [
    "<a id='part4'></a>\n",
    "# <span style=\"color:#ba190f\">CHECKOFF </span> \n",
    "-----\n",
    "    \n",
    "\n",
    "\n",
    "### For Checkoff:\n",
    "\n",
    "- First take the checkoff quiz: http://tinyurl.com/debugLabQuiz\n",
    "- Show your GSI both the input and output signals on your oscilloscope at the same time.\n",
    "- Show your GSI your completed quiz.\n",
    "- Show your GSI your order confirmation for your TI op-amps.\n",
    "- Show your GSI your working, debugged half adder circuit and explain the bugs you caught.\n",
    "- Return the adder circuit.\n",
    "- Be prepared to answer some questions.\n",
    "\n",
    "**After checkoff, please:**\n",
    "- Turn off all lab equipment\n",
    "- Clean up your station!!\n",
    "- Leave the station as you found it!\n",
    "\n",
    "### Save this notebook somewhere you can access it! \n",
    "\n",
    "We recommend making a shared google drive with your lab partner, since github can be annoying with jupyter notebooks. You will **NOT** need this circuit for next week's lab, but it's good to start saving your jupyter notebooks now so that you will always have access to your lab work.\n",
    "\n",
    "Occasionally, the lab computers fail and lose the notebook data. Backups are always a good idea."
   ]
  }
 ],
 "metadata": {
  "anaconda-cloud": {},
  "kernelspec": {
   "display_name": "Python 3",
   "language": "python",
   "name": "python3"
  },
  "language_info": {
   "codemirror_mode": {
    "name": "ipython",
    "version": 3
   },
   "file_extension": ".py",
   "mimetype": "text/x-python",
   "name": "python",
   "nbconvert_exporter": "python",
   "pygments_lexer": "ipython3",
   "version": "3.4.5"
  }
 },
 "nbformat": 4,
 "nbformat_minor": 2
}
